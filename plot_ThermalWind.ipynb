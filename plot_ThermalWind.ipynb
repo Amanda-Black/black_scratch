{
 "cells": [
  {
   "cell_type": "code",
   "execution_count": null,
   "metadata": {},
   "outputs": [],
   "source": [
    "import sys\n",
    "type(sys.path)\n",
    "for path in sys.path:\n",
    "    print(path)\n",
    "sys.path.append('/home/bla390/doppyo/doppyo')\n",
    "for path in sys.path:\n",
    "    print(path)"
   ]
  },
  {
   "cell_type": "code",
   "execution_count": null,
   "metadata": {},
   "outputs": [],
   "source": [
    "import numpy as np\n",
    "import pandas as pd\n",
    "import xarray as xr\n",
    "import diagnostic as dgn\n",
    "from scipy import interpolate\n",
    "import matplotlib.pyplot as plt\n",
    "from cartopy import crs as ccrs\n",
    "from cartopy.mpl.gridliner import LONGITUDE_FORMATTER, LATITUDE_FORMATTER"
   ]
  },
  {
   "cell_type": "code",
   "execution_count": null,
   "metadata": {},
   "outputs": [],
   "source": [
    "#== READ ==#\n",
    "filepath = r'/home/bla390/control_run/atmos_daily_1500_01_01.nc.isobaric'\n",
    "dataVars = xr.open_dataset(filepath, chunks={'time': 1})\n",
    "\n",
    "index = list(np.arange(0,59)) + list(np.arange(334,365))\n",
    "hght_DJF = dataVars.hght.isel(time=index).mean(\"time\")\n",
    "hght_MAM = dataVars.hght.isel(time=slice( 59, 151)).mean(\"time\")\n",
    "hght_JJA = dataVars.hght.isel(time=slice(151, 243)).mean(\"time\")\n",
    "hght_SON = dataVars.hght.isel(time=slice(243, 334)).mean(\"time\")\n",
    "\n",
    "hght = xr.concat([hght_DJF, hght_MAM, hght_JJA, hght_SON], pd.Index(['DJF', 'MAM', 'JJA', 'SON'], name='season'))\n",
    "seasonDict = {0:'DJF', 1:'MAM', 2:'JJA', 3:'SON'}"
   ]
  },
  {
   "cell_type": "code",
   "execution_count": null,
   "metadata": {},
   "outputs": [],
   "source": [
    "#== REGRID ==#\n",
    "new_lon = np.linspace(0, 360, 361) ; new_lat = np.linspace(-89.5,89.5,180)\n",
    "gh = xr.DataArray(np.zeros((((4,2,180,361)))), coords=[('season', ['DJF', 'MAM', 'JJA', 'SON']), \n",
    "                                                      ('level',[300,700]), ('lat',new_lat), ('lon',new_lon)])\n",
    "\n",
    "for i in np.arange(0, 4):\n",
    "    \n",
    "    #--700mb\n",
    "    ghT = np.transpose(hght.sel(season = seasonDict[i], level=700).values)\n",
    "    ghf = interpolate.interp2d(dataVars.lon.values,dataVars.lat.values,ghT.ravel())\n",
    "    gh700_1deg = ghf(new_lon,new_lat)\n",
    "\n",
    "    #--300mb\n",
    "    ghT = np.transpose(hght.sel(season = seasonDict[i], level=300).values)\n",
    "    ghf = interpolate.interp2d(dataVars.lon.values,dataVars.lat.values,ghT.ravel())\n",
    "    gh300_1deg = ghf(new_lon,new_lat)\n",
    "\n",
    "    gh_1deg = np.stack((gh300_1deg, gh700_1deg), axis=0)\n",
    "    gh[i] = xr.DataArray(gh_1deg, coords=[('level',[300,700]), ('lat',new_lat), ('lon',new_lon)])"
   ]
  },
  {
   "cell_type": "code",
   "execution_count": null,
   "metadata": {},
   "outputs": [],
   "source": [
    "#== COMPUTE ==#\n",
    "ThermalWindMag = xr.DataArray(np.zeros((((4,180,361)))), coords=[('season', ['DJF', 'MAM', 'JJA', 'SON']), \n",
    "                                                      ('lat',np.linspace(89.5,-89.5,180)), ('lon',new_lon)])\n",
    "\n",
    "for i in np.arange(0, 4):\n",
    "    \n",
    "    ThermalWind = dgn.thermal_wind(gh.sel(season=seasonDict[i]), plevel_lower=300, plevel_upper=700)\n",
    "    ThermalWindMag[i] = np.sqrt(np.square(ThermalWind['u_tw']) + np.square(ThermalWind['v_tw']))"
   ]
  },
  {
   "cell_type": "code",
   "execution_count": null,
   "metadata": {},
   "outputs": [],
   "source": [
    "#== PLOT ==#\n",
    "proj = ccrs.PlateCarree(180)\n",
    "levels = [0,0.5,1,1.5,2,2.5,3,3.5,4,4.5,5]\n",
    "fig1 = plt.figure(figsize=(10, 15));\n",
    "gs1 = plt.GridSpec(4, 1)\n",
    "gs1.update(left=0.06, right=0.96, bottom = 0.28, top = 0.97, wspace=0.03, hspace = 0.25)\n",
    "ax1 = plt.subplot(gs1[0, 0], projection=proj)\n",
    "ax2 = plt.subplot(gs1[1, 0], projection=proj)\n",
    "ax3 = plt.subplot(gs1[2, 0], projection=proj)\n",
    "ax4 = plt.subplot(gs1[3, 0], projection=proj)\n",
    "\n",
    "#--Fig 1\n",
    "im = ThermalWindMag[0].sel(lat=slice(-2,-89)).plot.contourf(ax=ax1, levels=levels, cmap=plt.cm.GnBu, extend='both',\n",
    "                                                            add_colorbar = False, transform=ccrs.PlateCarree())\n",
    "ax1.coastlines()\n",
    "gl = ax1.gridlines(crs=ccrs.PlateCarree(), draw_labels=True)\n",
    "gl.xlabels_top = False ; gl.ylabels_right = False\n",
    "gl.xformatter = LONGITUDE_FORMATTER ; gl.yformatter = LATITUDE_FORMATTER\n",
    "ax1.set_title('Thermal Wind - ' + seasonDict[0])\n",
    "\n",
    "#--Fig 2\n",
    "im = ThermalWindMag[1].sel(lat=slice(-2,-89)).plot.contourf(ax=ax2, levels=levels, cmap=plt.cm.GnBu, extend='both', \n",
    "                                                            add_colorbar = False, transform=ccrs.PlateCarree())\n",
    "ax2.coastlines()\n",
    "gl = ax2.gridlines(crs=ccrs.PlateCarree(), draw_labels=True)\n",
    "gl.xlabels_top = False ; gl.ylabels_right = False\n",
    "gl.xformatter = LONGITUDE_FORMATTER ; gl.yformatter = LATITUDE_FORMATTER\n",
    "ax2.set_title('Thermal Wind - ' + seasonDict[1])\n",
    "\n",
    "#--Fig 3\n",
    "im = ThermalWindMag[2].sel(lat=slice(-2,-89)).plot.contourf(ax=ax3, levels=levels, cmap=plt.cm.GnBu, extend='both', \n",
    "                                                            add_colorbar = False, transform=ccrs.PlateCarree())\n",
    "ax3.coastlines()\n",
    "gl = ax3.gridlines(crs=ccrs.PlateCarree(), draw_labels=True)\n",
    "gl.xlabels_top = False ; gl.ylabels_right = False\n",
    "gl.xformatter = LONGITUDE_FORMATTER ; gl.yformatter = LATITUDE_FORMATTER\n",
    "ax3.set_title('Thermal Wind - ' + seasonDict[2])\n",
    "\n",
    "#--Fig 4\n",
    "im = ThermalWindMag[3].sel(lat=slice(-2,-89)).plot.contourf(ax=ax4, levels=levels, cmap=plt.cm.GnBu, extend='both', \n",
    "                                                            add_colorbar = False, transform=ccrs.PlateCarree())\n",
    "ax4.coastlines()\n",
    "gl = ax4.gridlines(crs=ccrs.PlateCarree(), draw_labels=True)\n",
    "gl.xlabels_top = False ; gl.ylabels_right = False\n",
    "gl.xformatter = LONGITUDE_FORMATTER ; gl.yformatter = LATITUDE_FORMATTER\n",
    "ax4.set_title('Thermal Wind - ' + seasonDict[3])\n",
    "\n",
    "#--place colorbar\n",
    "gs2 = plt.GridSpec(1,1)\n",
    "gs2.update(left=0.3, right=0.7, bottom = 0.23, top = 0.24)\n",
    "ax5 = plt.subplot(gs2[0, 0])\n",
    "plt.colorbar(im, cax=ax5, orientation='horizontal')\n",
    "#--save image\n",
    "plt.savefig('/home/bla390/control_run/images/ThermalWind_AllSeasons.png')"
   ]
  },
  {
   "cell_type": "code",
   "execution_count": null,
   "metadata": {},
   "outputs": [],
   "source": []
  }
 ],
 "metadata": {
  "kernelspec": {
   "display_name": "Python 3",
   "language": "python",
   "name": "python3"
  },
  "language_info": {
   "codemirror_mode": {
    "name": "ipython",
    "version": 3
   },
   "file_extension": ".py",
   "mimetype": "text/x-python",
   "name": "python",
   "nbconvert_exporter": "python",
   "pygments_lexer": "ipython3",
   "version": "3.7.3"
  }
 },
 "nbformat": 4,
 "nbformat_minor": 4
}
